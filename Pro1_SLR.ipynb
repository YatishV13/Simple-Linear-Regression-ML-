{
 "cells": [
  {
   "cell_type": "markdown",
   "id": "c90e3a7b",
   "metadata": {},
   "source": [
    "# Simple Linear Regression"
   ]
  },
  {
   "cell_type": "code",
   "execution_count": 25,
   "id": "f4a65b1e",
   "metadata": {},
   "outputs": [],
   "source": [
    "import numpy as np\n",
    "import pandas as pd\n",
    "import matplotlib.pyplot as plt\n",
    "import sklearn"
   ]
  },
  {
   "cell_type": "markdown",
   "id": "f11cb383",
   "metadata": {},
   "source": [
    "## Loading Dataset"
   ]
  },
  {
   "cell_type": "code",
   "execution_count": 26,
   "id": "fba44062",
   "metadata": {},
   "outputs": [
    {
     "data": {
      "text/html": [
       "<div>\n",
       "<style scoped>\n",
       "    .dataframe tbody tr th:only-of-type {\n",
       "        vertical-align: middle;\n",
       "    }\n",
       "\n",
       "    .dataframe tbody tr th {\n",
       "        vertical-align: top;\n",
       "    }\n",
       "\n",
       "    .dataframe thead th {\n",
       "        text-align: right;\n",
       "    }\n",
       "</style>\n",
       "<table border=\"1\" class=\"dataframe\">\n",
       "  <thead>\n",
       "    <tr style=\"text-align: right;\">\n",
       "      <th></th>\n",
       "      <th>Height</th>\n",
       "      <th>Weight</th>\n",
       "    </tr>\n",
       "  </thead>\n",
       "  <tbody>\n",
       "    <tr>\n",
       "      <th>0</th>\n",
       "      <td>1.47</td>\n",
       "      <td>52.21</td>\n",
       "    </tr>\n",
       "    <tr>\n",
       "      <th>1</th>\n",
       "      <td>1.50</td>\n",
       "      <td>53.12</td>\n",
       "    </tr>\n",
       "    <tr>\n",
       "      <th>2</th>\n",
       "      <td>1.52</td>\n",
       "      <td>54.48</td>\n",
       "    </tr>\n",
       "    <tr>\n",
       "      <th>3</th>\n",
       "      <td>1.55</td>\n",
       "      <td>55.84</td>\n",
       "    </tr>\n",
       "    <tr>\n",
       "      <th>4</th>\n",
       "      <td>1.57</td>\n",
       "      <td>57.20</td>\n",
       "    </tr>\n",
       "  </tbody>\n",
       "</table>\n",
       "</div>"
      ],
      "text/plain": [
       "   Height  Weight\n",
       "0    1.47   52.21\n",
       "1    1.50   53.12\n",
       "2    1.52   54.48\n",
       "3    1.55   55.84\n",
       "4    1.57   57.20"
      ]
     },
     "execution_count": 26,
     "metadata": {},
     "output_type": "execute_result"
    }
   ],
   "source": [
    "df = pd.read_csv('J:\\Courses\\Top Mentor\\Class Notes\\Day 18 (July 2)\\data.csv')\n",
    "df.head() #To get top 5 rows from table"
   ]
  },
  {
   "cell_type": "code",
   "execution_count": 27,
   "id": "dbdca136",
   "metadata": {},
   "outputs": [
    {
     "data": {
      "text/plain": [
       "Height    0\n",
       "Weight    0\n",
       "dtype: int64"
      ]
     },
     "execution_count": 27,
     "metadata": {},
     "output_type": "execute_result"
    }
   ],
   "source": [
    "# Checking for null values\n",
    "df.isnull().sum()"
   ]
  },
  {
   "cell_type": "markdown",
   "id": "1424c699",
   "metadata": {},
   "source": [
    "## Developing a model"
   ]
  },
  {
   "cell_type": "code",
   "execution_count": 28,
   "id": "dfce1ad3",
   "metadata": {},
   "outputs": [
    {
     "name": "stdout",
     "output_type": "stream",
     "text": [
      "<class 'pandas.core.frame.DataFrame'>\n",
      "RangeIndex: 15 entries, 0 to 14\n",
      "Data columns (total 2 columns):\n",
      " #   Column  Non-Null Count  Dtype  \n",
      "---  ------  --------------  -----  \n",
      " 0   Height  15 non-null     float64\n",
      " 1   Weight  15 non-null     float64\n",
      "dtypes: float64(2)\n",
      "memory usage: 368.0 bytes\n"
     ]
    }
   ],
   "source": [
    "# y = mx + c\n",
    "df.info()               # To check rows and col. in Table"
   ]
  },
  {
   "cell_type": "code",
   "execution_count": 68,
   "id": "11414a26",
   "metadata": {},
   "outputs": [],
   "source": [
    "# Splitting the data using train_test method\n",
    "from sklearn.model_selection import train_test_split\n",
    "\n",
    "# Give independent data to x & dependent data to y\n",
    "x = df.iloc[: , 0]      # independent \n",
    "y = df['Weight']    # dependent"
   ]
  },
  {
   "cell_type": "code",
   "execution_count": 69,
   "id": "958243b3",
   "metadata": {},
   "outputs": [
    {
     "data": {
      "text/plain": [
       "((15,), (15,))"
      ]
     },
     "execution_count": 69,
     "metadata": {},
     "output_type": "execute_result"
    }
   ],
   "source": [
    "x.shape, y.shape"
   ]
  },
  {
   "cell_type": "code",
   "execution_count": 70,
   "id": "42bfc31b",
   "metadata": {},
   "outputs": [],
   "source": [
    "x = x.values.reshape(-1, 1)"
   ]
  },
  {
   "cell_type": "code",
   "execution_count": 71,
   "id": "c6db2b62",
   "metadata": {},
   "outputs": [
    {
     "data": {
      "text/plain": [
       "(15, 1)"
      ]
     },
     "execution_count": 71,
     "metadata": {},
     "output_type": "execute_result"
    }
   ],
   "source": [
    "x.shape"
   ]
  },
  {
   "cell_type": "code",
   "execution_count": 72,
   "id": "4db9450e",
   "metadata": {},
   "outputs": [],
   "source": [
    "x_train, x_test, y_train, y_test = train_test_split (x, y, test_size = 0.2, random_state = None)     \n",
    "# test_size indicates percentage of values for test i.e, 20% Data = Test & 80% Data = Train "
   ]
  },
  {
   "cell_type": "code",
   "execution_count": 73,
   "id": "67df7389",
   "metadata": {},
   "outputs": [
    {
     "data": {
      "text/plain": [
       "(array([[1.68],\n",
       "        [1.78],\n",
       "        [1.83],\n",
       "        [1.5 ],\n",
       "        [1.47],\n",
       "        [1.6 ],\n",
       "        [1.63],\n",
       "        [1.73],\n",
       "        [1.7 ],\n",
       "        [1.75],\n",
       "        [1.8 ],\n",
       "        [1.65]]),\n",
       " 8     63.11\n",
       " 12    69.92\n",
       " 14    74.46\n",
       " 1     53.12\n",
       " 0     52.21\n",
       " 5     58.57\n",
       " 6     59.93\n",
       " 10    66.28\n",
       " 9     64.47\n",
       " 11    68.10\n",
       " 13    72.19\n",
       " 7     61.29\n",
       " Name: Weight, dtype: float64)"
      ]
     },
     "execution_count": 73,
     "metadata": {},
     "output_type": "execute_result"
    }
   ],
   "source": [
    "x_train, y_train          # 80% Random Data selected for train"
   ]
  },
  {
   "cell_type": "code",
   "execution_count": 74,
   "id": "2e1bbeaf",
   "metadata": {},
   "outputs": [
    {
     "data": {
      "text/plain": [
       "(array([[1.55],\n",
       "        [1.57],\n",
       "        [1.52]]),\n",
       " 3    55.84\n",
       " 4    57.20\n",
       " 2    54.48\n",
       " Name: Weight, dtype: float64)"
      ]
     },
     "execution_count": 74,
     "metadata": {},
     "output_type": "execute_result"
    }
   ],
   "source": [
    "x_test, y_test            # 20% Random Data selected for test"
   ]
  },
  {
   "cell_type": "code",
   "execution_count": 75,
   "id": "b2fe6641",
   "metadata": {},
   "outputs": [],
   "source": [
    "training_data = pd.DataFrame ({'x_train' : x_train.flatten(), 'y_train' : y_train})        # Putting training data into 1 table"
   ]
  },
  {
   "cell_type": "code",
   "execution_count": 76,
   "id": "eb93a3a5",
   "metadata": {},
   "outputs": [],
   "source": [
    "test_data = pd.DataFrame ({'x_test' : x_test.flatten(), 'y_test' : y_test})                # Putting test data into 1 table"
   ]
  },
  {
   "cell_type": "code",
   "execution_count": 77,
   "id": "6f651ab2",
   "metadata": {},
   "outputs": [
    {
     "data": {
      "text/plain": [
       "(    x_train  y_train\n",
       " 8      1.68    63.11\n",
       " 12     1.78    69.92\n",
       " 14     1.83    74.46\n",
       " 1      1.50    53.12\n",
       " 0      1.47    52.21\n",
       " 5      1.60    58.57\n",
       " 6      1.63    59.93\n",
       " 10     1.73    66.28\n",
       " 9      1.70    64.47\n",
       " 11     1.75    68.10\n",
       " 13     1.80    72.19\n",
       " 7      1.65    61.29,\n",
       "    x_test  y_test\n",
       " 3    1.55   55.84\n",
       " 4    1.57   57.20\n",
       " 2    1.52   54.48)"
      ]
     },
     "execution_count": 77,
     "metadata": {},
     "output_type": "execute_result"
    }
   ],
   "source": [
    "training_data, test_data"
   ]
  },
  {
   "cell_type": "code",
   "execution_count": 78,
   "id": "70bcbb6a",
   "metadata": {},
   "outputs": [
    {
     "data": {
      "text/plain": [
       "(12, 3)"
      ]
     },
     "execution_count": 78,
     "metadata": {},
     "output_type": "execute_result"
    }
   ],
   "source": [
    "len(x_train), len(x_test)"
   ]
  },
  {
   "cell_type": "code",
   "execution_count": 79,
   "id": "cd25cd66",
   "metadata": {},
   "outputs": [
    {
     "data": {
      "text/plain": [
       "(12, 3)"
      ]
     },
     "execution_count": 79,
     "metadata": {},
     "output_type": "execute_result"
    }
   ],
   "source": [
    "len(y_train), len(y_test)"
   ]
  },
  {
   "cell_type": "code",
   "execution_count": 87,
   "id": "e98b92a2",
   "metadata": {},
   "outputs": [
    {
     "data": {
      "text/html": [
       "<style>#sk-container-id-1 {color: black;background-color: white;}#sk-container-id-1 pre{padding: 0;}#sk-container-id-1 div.sk-toggleable {background-color: white;}#sk-container-id-1 label.sk-toggleable__label {cursor: pointer;display: block;width: 100%;margin-bottom: 0;padding: 0.3em;box-sizing: border-box;text-align: center;}#sk-container-id-1 label.sk-toggleable__label-arrow:before {content: \"▸\";float: left;margin-right: 0.25em;color: #696969;}#sk-container-id-1 label.sk-toggleable__label-arrow:hover:before {color: black;}#sk-container-id-1 div.sk-estimator:hover label.sk-toggleable__label-arrow:before {color: black;}#sk-container-id-1 div.sk-toggleable__content {max-height: 0;max-width: 0;overflow: hidden;text-align: left;background-color: #f0f8ff;}#sk-container-id-1 div.sk-toggleable__content pre {margin: 0.2em;color: black;border-radius: 0.25em;background-color: #f0f8ff;}#sk-container-id-1 input.sk-toggleable__control:checked~div.sk-toggleable__content {max-height: 200px;max-width: 100%;overflow: auto;}#sk-container-id-1 input.sk-toggleable__control:checked~label.sk-toggleable__label-arrow:before {content: \"▾\";}#sk-container-id-1 div.sk-estimator input.sk-toggleable__control:checked~label.sk-toggleable__label {background-color: #d4ebff;}#sk-container-id-1 div.sk-label input.sk-toggleable__control:checked~label.sk-toggleable__label {background-color: #d4ebff;}#sk-container-id-1 input.sk-hidden--visually {border: 0;clip: rect(1px 1px 1px 1px);clip: rect(1px, 1px, 1px, 1px);height: 1px;margin: -1px;overflow: hidden;padding: 0;position: absolute;width: 1px;}#sk-container-id-1 div.sk-estimator {font-family: monospace;background-color: #f0f8ff;border: 1px dotted black;border-radius: 0.25em;box-sizing: border-box;margin-bottom: 0.5em;}#sk-container-id-1 div.sk-estimator:hover {background-color: #d4ebff;}#sk-container-id-1 div.sk-parallel-item::after {content: \"\";width: 100%;border-bottom: 1px solid gray;flex-grow: 1;}#sk-container-id-1 div.sk-label:hover label.sk-toggleable__label {background-color: #d4ebff;}#sk-container-id-1 div.sk-serial::before {content: \"\";position: absolute;border-left: 1px solid gray;box-sizing: border-box;top: 0;bottom: 0;left: 50%;z-index: 0;}#sk-container-id-1 div.sk-serial {display: flex;flex-direction: column;align-items: center;background-color: white;padding-right: 0.2em;padding-left: 0.2em;position: relative;}#sk-container-id-1 div.sk-item {position: relative;z-index: 1;}#sk-container-id-1 div.sk-parallel {display: flex;align-items: stretch;justify-content: center;background-color: white;position: relative;}#sk-container-id-1 div.sk-item::before, #sk-container-id-1 div.sk-parallel-item::before {content: \"\";position: absolute;border-left: 1px solid gray;box-sizing: border-box;top: 0;bottom: 0;left: 50%;z-index: -1;}#sk-container-id-1 div.sk-parallel-item {display: flex;flex-direction: column;z-index: 1;position: relative;background-color: white;}#sk-container-id-1 div.sk-parallel-item:first-child::after {align-self: flex-end;width: 50%;}#sk-container-id-1 div.sk-parallel-item:last-child::after {align-self: flex-start;width: 50%;}#sk-container-id-1 div.sk-parallel-item:only-child::after {width: 0;}#sk-container-id-1 div.sk-dashed-wrapped {border: 1px dashed gray;margin: 0 0.4em 0.5em 0.4em;box-sizing: border-box;padding-bottom: 0.4em;background-color: white;}#sk-container-id-1 div.sk-label label {font-family: monospace;font-weight: bold;display: inline-block;line-height: 1.2em;}#sk-container-id-1 div.sk-label-container {text-align: center;}#sk-container-id-1 div.sk-container {/* jupyter's `normalize.less` sets `[hidden] { display: none; }` but bootstrap.min.css set `[hidden] { display: none !important; }` so we also need the `!important` here to be able to override the default hidden behavior on the sphinx rendered scikit-learn.org. See: https://github.com/scikit-learn/scikit-learn/issues/21755 */display: inline-block !important;position: relative;}#sk-container-id-1 div.sk-text-repr-fallback {display: none;}</style><div id=\"sk-container-id-1\" class=\"sk-top-container\"><div class=\"sk-text-repr-fallback\"><pre>LinearRegression()</pre><b>In a Jupyter environment, please rerun this cell to show the HTML representation or trust the notebook. <br />On GitHub, the HTML representation is unable to render, please try loading this page with nbviewer.org.</b></div><div class=\"sk-container\" hidden><div class=\"sk-item\"><div class=\"sk-estimator sk-toggleable\"><input class=\"sk-toggleable__control sk-hidden--visually\" id=\"sk-estimator-id-1\" type=\"checkbox\" checked><label for=\"sk-estimator-id-1\" class=\"sk-toggleable__label sk-toggleable__label-arrow\">LinearRegression</label><div class=\"sk-toggleable__content\"><pre>LinearRegression()</pre></div></div></div></div></div>"
      ],
      "text/plain": [
       "LinearRegression()"
      ]
     },
     "execution_count": 87,
     "metadata": {},
     "output_type": "execute_result"
    }
   ],
   "source": [
    "# Now, giving training data to train the algorithm\n",
    "from sklearn.linear_model import LinearRegression\n",
    "reg = LinearRegression()\n",
    "\n",
    "reg.fit(x_train, y_train)            #fit is mediator, gives train data to reg (algorithm: y=mx+c)"
   ]
  },
  {
   "cell_type": "code",
   "execution_count": 90,
   "id": "66d1bd45",
   "metadata": {},
   "outputs": [
    {
     "data": {
      "text/plain": [
       "array([61.71225745])"
      ]
     },
     "execution_count": 90,
     "metadata": {},
     "output_type": "execute_result"
    }
   ],
   "source": [
    "# m-value\n",
    "reg.coef_"
   ]
  },
  {
   "cell_type": "code",
   "execution_count": 91,
   "id": "060cb016",
   "metadata": {},
   "outputs": [
    {
     "data": {
      "text/plain": [
       "-39.83338499763364"
      ]
     },
     "execution_count": 91,
     "metadata": {},
     "output_type": "execute_result"
    }
   ],
   "source": [
    "#c-value\n",
    "reg.intercept_"
   ]
  },
  {
   "cell_type": "code",
   "execution_count": null,
   "id": "c2994b94",
   "metadata": {},
   "outputs": [],
   "source": [
    "# Algorithm: y = mx + c\n",
    "# Model:   y = (61.71225745 * x) + (-39.83338499763364)    \n",
    "# model is trained  (From Algorithm we got the model)"
   ]
  },
  {
   "cell_type": "markdown",
   "id": "69003b6e",
   "metadata": {},
   "source": [
    "## Graphical Representation of train data"
   ]
  },
  {
   "cell_type": "code",
   "execution_count": 89,
   "id": "3bd2571f",
   "metadata": {},
   "outputs": [
    {
     "data": {
      "image/png": "[encoded data removed]",
      "text/plain": [
       "<Figure size 500x300 with 1 Axes>"
      ]
     },
     "metadata": {},
     "output_type": "display_data"
    }
   ],
   "source": [
    "# Now, we will see how training data looks like in graphical representation\n",
    "plt.figure(figsize=(5,3))\n",
    "plt.scatter(x=x_train, y=y_train)\n",
    "plt.title('Simple Linear Regression')\n",
    "plt.xlabel('x_train')\n",
    "plt.ylabel('y_train')\n",
    "plt.show()"
   ]
  },
  {
   "cell_type": "code",
   "execution_count": null,
   "id": "bc0e77dc",
   "metadata": {},
   "outputs": [],
   "source": [
    "# Since, x points and y points are increasing we can say it is positive covarianvce"
   ]
  },
  {
   "cell_type": "code",
   "execution_count": null,
   "id": "b1e1e39b",
   "metadata": {},
   "outputs": [],
   "source": [
    "## Making train predictions\n",
    "y_train_predictions = reg.predict(x_train)\n",
    "print(y_train_predictions)"
   ]
  },
  {
   "cell_type": "code",
   "execution_count": 93,
   "id": "9d1ad7fc",
   "metadata": {},
   "outputs": [
    {
     "name": "stdout",
     "output_type": "stream",
     "text": [
      "    x_train  y_train  y_train_predictions\n",
      "8      1.68    63.11            63.843208\n",
      "12     1.78    69.92            70.014433\n",
      "14     1.83    74.46            73.100046\n",
      "1      1.50    53.12            52.735001\n",
      "0      1.47    52.21            50.883633\n",
      "5      1.60    58.57            58.906227\n",
      "6      1.63    59.93            60.757595\n",
      "10     1.73    66.28            66.928820\n",
      "9      1.70    64.47            65.077453\n",
      "11     1.75    68.10            68.163066\n",
      "13     1.80    72.19            71.248678\n",
      "7      1.65    61.29            61.991840\n"
     ]
    }
   ],
   "source": [
    "training_data ['y_train_predictions'] = y_train_predictions    # adding y_train_predictions col. alongside x_train & y_train \n",
    "print(training_data)"
   ]
  },
  {
   "cell_type": "code",
   "execution_count": 94,
   "id": "1adffed5",
   "metadata": {},
   "outputs": [
    {
     "data": {
      "image/png": "[encoded data removed]",
      "text/plain": [
       "<Figure size 500x300 with 1 Axes>"
      ]
     },
     "metadata": {},
     "output_type": "display_data"
    }
   ],
   "source": [
    "# Graphical representation of actual data & predicted data\n",
    "plt.figure(figsize=(5,3))\n",
    "plt.scatter(x=x_train, y=y_train)\n",
    "plt.scatter(x=x_train, y=y_train_predictions)\n",
    "plt.title('Simple Linear Regression')\n",
    "plt.xlabel('x_train')\n",
    "plt.ylabel('y_train')\n",
    "plt.show()"
   ]
  },
  {
   "cell_type": "markdown",
   "id": "82d6c5b5",
   "metadata": {},
   "source": [
    "### Finding Accuracy and Loss of the Train Data"
   ]
  },
  {
   "cell_type": "code",
   "execution_count": 107,
   "id": "7a76bcd1",
   "metadata": {},
   "outputs": [
    {
     "name": "stdout",
     "output_type": "stream",
     "text": [
      "Train Accuracy: 0.9866225015352759\n"
     ]
    }
   ],
   "source": [
    "# find accuracy of train_data\n",
    "from sklearn.metrics import r2_score         #r2_score = used to find accuracy of the model\n",
    "print(f'Train Accuracy: {r2_score(y_train, y_train_predictions)}')"
   ]
  },
  {
   "cell_type": "code",
   "execution_count": 99,
   "id": "3937f150",
   "metadata": {},
   "outputs": [
    {
     "name": "stdout",
     "output_type": "stream",
     "text": [
      "Train Loss: 0.013377498464724136\n"
     ]
    }
   ],
   "source": [
    "# find loss of train_data\n",
    "# Formula: loss = 1 - accuracy\n",
    "print(f'Train Loss: {1 - r2_score(y_train, y_train_predictions)}')"
   ]
  },
  {
   "cell_type": "code",
   "execution_count": 100,
   "id": "c46b59dd",
   "metadata": {},
   "outputs": [
    {
     "data": {
      "text/plain": [
       "1.0"
      ]
     },
     "execution_count": 100,
     "metadata": {},
     "output_type": "execute_result"
    }
   ],
   "source": [
    "0.9866225015352759 + 0.013377498464724136"
   ]
  },
  {
   "cell_type": "markdown",
   "id": "e345d78e",
   "metadata": {},
   "source": [
    "## Work with test data"
   ]
  },
  {
   "cell_type": "code",
   "execution_count": 101,
   "id": "a6e8e111",
   "metadata": {},
   "outputs": [
    {
     "name": "stdout",
     "output_type": "stream",
     "text": [
      "[55.82061406 57.0548592  53.96924633]\n"
     ]
    }
   ],
   "source": [
    "y_test_predictions = reg.predict(x_test)\n",
    "print(y_test_predictions)"
   ]
  },
  {
   "cell_type": "code",
   "execution_count": 102,
   "id": "6bc828b4",
   "metadata": {},
   "outputs": [
    {
     "name": "stdout",
     "output_type": "stream",
     "text": [
      "   x_test  y_test  y_test_predictions\n",
      "3    1.55   55.84           55.820614\n",
      "4    1.57   57.20           57.054859\n",
      "2    1.52   54.48           53.969246\n"
     ]
    }
   ],
   "source": [
    "test_data['y_test_predictions'] = y_test_predictions      # adding y_test_predictions col. alongside x_test & y_test\n",
    "print(test_data)"
   ]
  },
  {
   "cell_type": "markdown",
   "id": "d51d898a",
   "metadata": {},
   "source": [
    "### Finding Accuracy and Loss of the Test Data"
   ]
  },
  {
   "cell_type": "code",
   "execution_count": 106,
   "id": "93a907a8",
   "metadata": {},
   "outputs": [
    {
     "name": "stdout",
     "output_type": "stream",
     "text": [
      "Test Accuracy: 0.9236832357352609\n"
     ]
    }
   ],
   "source": [
    "# find accuracy of test_data\n",
    "print(f'Test Accuracy: {r2_score(y_test, y_test_predictions)}')"
   ]
  },
  {
   "cell_type": "code",
   "execution_count": 104,
   "id": "c56593d9",
   "metadata": {},
   "outputs": [
    {
     "name": "stdout",
     "output_type": "stream",
     "text": [
      "Test Loss: 0.0763167642647391\n"
     ]
    }
   ],
   "source": [
    "# find loss of test_data\n",
    "print(f'Test Loss: {1 - r2_score(y_test, y_test_predictions)}')"
   ]
  },
  {
   "cell_type": "code",
   "execution_count": 105,
   "id": "d0a0de96",
   "metadata": {},
   "outputs": [
    {
     "data": {
      "text/plain": [
       "1.0"
      ]
     },
     "execution_count": 105,
     "metadata": {},
     "output_type": "execute_result"
    }
   ],
   "source": [
    "0.9236832357352609 + 0.0763167642647391"
   ]
  },
  {
   "cell_type": "code",
   "execution_count": null,
   "id": "5a67378f",
   "metadata": {},
   "outputs": [],
   "source": []
  },
  {
   "cell_type": "code",
   "execution_count": 108,
   "id": "d8c10602",
   "metadata": {},
   "outputs": [
    {
     "data": {
      "text/plain": [
       "array([83.59112991])"
      ]
     },
     "execution_count": 108,
     "metadata": {},
     "output_type": "execute_result"
    }
   ],
   "source": [
    "# Testing model with own data\n",
    "# Find how much weight will be there for 2 ft height\n",
    "reg.predict([[2.0]])"
   ]
  },
  {
   "cell_type": "code",
   "execution_count": 112,
   "id": "2623ade5",
   "metadata": {},
   "outputs": [
    {
     "name": "stdout",
     "output_type": "stream",
     "text": [
      "83.59112990236636\n"
     ]
    }
   ],
   "source": [
    "# Check Manually using obtained model\n",
    "# y = (61.71225745 * x) + (-39.83338499763364)\n",
    "y = (61.71225745 * 2) + (-39.83338499763364)\n",
    "print(y)"
   ]
  },
  {
   "cell_type": "code",
   "execution_count": null,
   "id": "96837a07",
   "metadata": {},
   "outputs": [],
   "source": []
  }
 ],
 "metadata": {
  "kernelspec": {
   "display_name": "Python 3 (ipykernel)",
   "language": "python",
   "name": "python3"
  },
  "language_info": {
   "codemirror_mode": {
    "name": "ipython",
    "version": 3
   },
   "file_extension": ".py",
   "mimetype": "text/x-python",
   "name": "python",
   "nbconvert_exporter": "python",
   "pygments_lexer": "ipython3",
   "version": "3.10.9"
  }
 },
 "nbformat": 4,
 "nbformat_minor": 5
}
